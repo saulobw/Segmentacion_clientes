{
  "nbformat": 4,
  "nbformat_minor": 0,
  "metadata": {
    "colab": {
      "provenance": [],
      "authorship_tag": "ABX9TyOq2KHotZbBSbPgLKDiYiw4",
      "include_colab_link": true
    },
    "kernelspec": {
      "name": "python3",
      "display_name": "Python 3"
    },
    "language_info": {
      "name": "python"
    }
  },
  "cells": [
    {
      "cell_type": "markdown",
      "metadata": {
        "id": "view-in-github",
        "colab_type": "text"
      },
      "source": [
        "<a href=\"https://colab.research.google.com/github/saulobw/Segmentacion_clientes/blob/main/Prediccion_rotacion.ipynb\" target=\"_parent\"><img src=\"https://colab.research.google.com/assets/colab-badge.svg\" alt=\"Open In Colab\"/></a>"
      ]
    },
    {
      "cell_type": "markdown",
      "source": [
        "***PREDICCION DE ROTACION_CLIENTE USANDO xgboost***"
      ],
      "metadata": {
        "id": "ZfgAxZprG8jf"
      }
    },
    {
      "cell_type": "code",
      "source": [
        "#importar las dependencias\n",
        "import pandas as pd\n",
        "import numpy as np\n",
        "import xgboost as xgb\n",
        "from sklearn.model_selection import train_test_split\n",
        "from sklearn.preprocessing import Normalizer\n",
        "from sklearn.model_selection import GridSearchCV\n",
        "from sklearn.metrics import accuracy_score"
      ],
      "metadata": {
        "id": "SiVPhcrWHOtD"
      },
      "execution_count": null,
      "outputs": []
    },
    {
      "cell_type": "code",
      "source": [
        "import warnings\n",
        "warnings.filterwarnings('ignore')"
      ],
      "metadata": {
        "id": "rytanuDaL0Zc"
      },
      "execution_count": null,
      "outputs": []
    },
    {
      "cell_type": "code",
      "source": [
        "#creamos un dataframe\n",
        "df= pd.read_csv('data1.csv', sep=';')"
      ],
      "metadata": {
        "id": "VjMT0auCMK2O"
      },
      "execution_count": null,
      "outputs": []
    },
    {
      "cell_type": "code",
      "source": [
        "df.head()"
      ],
      "metadata": {
        "colab": {
          "base_uri": "https://localhost:8080/",
          "height": 339
        },
        "id": "lIngYzLCNl_d",
        "outputId": "766c6146-f7eb-4ba6-c706-1d0c9392c9a3"
      },
      "execution_count": null,
      "outputs": [
        {
          "output_type": "execute_result",
          "data": {
            "text/plain": [
              "   account length  location code  user id credit card info save push status  \\\n",
              "0             128            415  3824657                    no         yes   \n",
              "1             107            415  3717191                    no         yes   \n",
              "2             137            415  3581921                    no          no   \n",
              "3              84            408  3759999                   yes          no   \n",
              "4              75            415  3306626                   yes          no   \n",
              "\n",
              "   add to wishlist  desktop sessions  app sessions  desktop transactions  \\\n",
              "0               25               265            45                    17   \n",
              "1               26               162            27                    17   \n",
              "2                0               243            41                    10   \n",
              "3                0               299            51                     5   \n",
              "4                0               167            28                    13   \n",
              "\n",
              "   total product detail views  session duration  promotion clicks  \\\n",
              "0                         110               197                87   \n",
              "1                         123               196               103   \n",
              "2                         114               121               110   \n",
              "3                          71                62                88   \n",
              "4                         113               148               122   \n",
              "\n",
              "  avg order value  sale product views discount rate per visited products  \\\n",
              "0           244,7                  91                              11,01   \n",
              "1           254,4                 103                              11,45   \n",
              "2           162,6                 104                               7,32   \n",
              "3           196,9                  89                               8,86   \n",
              "4           186,9                 121                               8,41   \n",
              "\n",
              "  product detail view per app session  app transactions  \\\n",
              "0                                  10                 3   \n",
              "1                                13,7                 3   \n",
              "2                                12,2                 5   \n",
              "3                                 6,6                 7   \n",
              "4                                10,1                 3   \n",
              "\n",
              "  add to cart per session  customer service calls  churn  \n",
              "0                     2,7                       1      0  \n",
              "1                     3,7                       1      0  \n",
              "2                    3,29                       0      0  \n",
              "3                    1,78                       2      0  \n",
              "4                    2,73                       3      0  "
            ],
            "text/html": [
              "\n",
              "\n",
              "  <div id=\"df-b895846c-9928-412e-a98f-e13751057ef1\">\n",
              "    <div class=\"colab-df-container\">\n",
              "      <div>\n",
              "<style scoped>\n",
              "    .dataframe tbody tr th:only-of-type {\n",
              "        vertical-align: middle;\n",
              "    }\n",
              "\n",
              "    .dataframe tbody tr th {\n",
              "        vertical-align: top;\n",
              "    }\n",
              "\n",
              "    .dataframe thead th {\n",
              "        text-align: right;\n",
              "    }\n",
              "</style>\n",
              "<table border=\"1\" class=\"dataframe\">\n",
              "  <thead>\n",
              "    <tr style=\"text-align: right;\">\n",
              "      <th></th>\n",
              "      <th>account length</th>\n",
              "      <th>location code</th>\n",
              "      <th>user id</th>\n",
              "      <th>credit card info save</th>\n",
              "      <th>push status</th>\n",
              "      <th>add to wishlist</th>\n",
              "      <th>desktop sessions</th>\n",
              "      <th>app sessions</th>\n",
              "      <th>desktop transactions</th>\n",
              "      <th>total product detail views</th>\n",
              "      <th>session duration</th>\n",
              "      <th>promotion clicks</th>\n",
              "      <th>avg order value</th>\n",
              "      <th>sale product views</th>\n",
              "      <th>discount rate per visited products</th>\n",
              "      <th>product detail view per app session</th>\n",
              "      <th>app transactions</th>\n",
              "      <th>add to cart per session</th>\n",
              "      <th>customer service calls</th>\n",
              "      <th>churn</th>\n",
              "    </tr>\n",
              "  </thead>\n",
              "  <tbody>\n",
              "    <tr>\n",
              "      <th>0</th>\n",
              "      <td>128</td>\n",
              "      <td>415</td>\n",
              "      <td>3824657</td>\n",
              "      <td>no</td>\n",
              "      <td>yes</td>\n",
              "      <td>25</td>\n",
              "      <td>265</td>\n",
              "      <td>45</td>\n",
              "      <td>17</td>\n",
              "      <td>110</td>\n",
              "      <td>197</td>\n",
              "      <td>87</td>\n",
              "      <td>244,7</td>\n",
              "      <td>91</td>\n",
              "      <td>11,01</td>\n",
              "      <td>10</td>\n",
              "      <td>3</td>\n",
              "      <td>2,7</td>\n",
              "      <td>1</td>\n",
              "      <td>0</td>\n",
              "    </tr>\n",
              "    <tr>\n",
              "      <th>1</th>\n",
              "      <td>107</td>\n",
              "      <td>415</td>\n",
              "      <td>3717191</td>\n",
              "      <td>no</td>\n",
              "      <td>yes</td>\n",
              "      <td>26</td>\n",
              "      <td>162</td>\n",
              "      <td>27</td>\n",
              "      <td>17</td>\n",
              "      <td>123</td>\n",
              "      <td>196</td>\n",
              "      <td>103</td>\n",
              "      <td>254,4</td>\n",
              "      <td>103</td>\n",
              "      <td>11,45</td>\n",
              "      <td>13,7</td>\n",
              "      <td>3</td>\n",
              "      <td>3,7</td>\n",
              "      <td>1</td>\n",
              "      <td>0</td>\n",
              "    </tr>\n",
              "    <tr>\n",
              "      <th>2</th>\n",
              "      <td>137</td>\n",
              "      <td>415</td>\n",
              "      <td>3581921</td>\n",
              "      <td>no</td>\n",
              "      <td>no</td>\n",
              "      <td>0</td>\n",
              "      <td>243</td>\n",
              "      <td>41</td>\n",
              "      <td>10</td>\n",
              "      <td>114</td>\n",
              "      <td>121</td>\n",
              "      <td>110</td>\n",
              "      <td>162,6</td>\n",
              "      <td>104</td>\n",
              "      <td>7,32</td>\n",
              "      <td>12,2</td>\n",
              "      <td>5</td>\n",
              "      <td>3,29</td>\n",
              "      <td>0</td>\n",
              "      <td>0</td>\n",
              "    </tr>\n",
              "    <tr>\n",
              "      <th>3</th>\n",
              "      <td>84</td>\n",
              "      <td>408</td>\n",
              "      <td>3759999</td>\n",
              "      <td>yes</td>\n",
              "      <td>no</td>\n",
              "      <td>0</td>\n",
              "      <td>299</td>\n",
              "      <td>51</td>\n",
              "      <td>5</td>\n",
              "      <td>71</td>\n",
              "      <td>62</td>\n",
              "      <td>88</td>\n",
              "      <td>196,9</td>\n",
              "      <td>89</td>\n",
              "      <td>8,86</td>\n",
              "      <td>6,6</td>\n",
              "      <td>7</td>\n",
              "      <td>1,78</td>\n",
              "      <td>2</td>\n",
              "      <td>0</td>\n",
              "    </tr>\n",
              "    <tr>\n",
              "      <th>4</th>\n",
              "      <td>75</td>\n",
              "      <td>415</td>\n",
              "      <td>3306626</td>\n",
              "      <td>yes</td>\n",
              "      <td>no</td>\n",
              "      <td>0</td>\n",
              "      <td>167</td>\n",
              "      <td>28</td>\n",
              "      <td>13</td>\n",
              "      <td>113</td>\n",
              "      <td>148</td>\n",
              "      <td>122</td>\n",
              "      <td>186,9</td>\n",
              "      <td>121</td>\n",
              "      <td>8,41</td>\n",
              "      <td>10,1</td>\n",
              "      <td>3</td>\n",
              "      <td>2,73</td>\n",
              "      <td>3</td>\n",
              "      <td>0</td>\n",
              "    </tr>\n",
              "  </tbody>\n",
              "</table>\n",
              "</div>\n",
              "      <button class=\"colab-df-convert\" onclick=\"convertToInteractive('df-b895846c-9928-412e-a98f-e13751057ef1')\"\n",
              "              title=\"Convert this dataframe to an interactive table.\"\n",
              "              style=\"display:none;\">\n",
              "\n",
              "  <svg xmlns=\"http://www.w3.org/2000/svg\" height=\"24px\"viewBox=\"0 0 24 24\"\n",
              "       width=\"24px\">\n",
              "    <path d=\"M0 0h24v24H0V0z\" fill=\"none\"/>\n",
              "    <path d=\"M18.56 5.44l.94 2.06.94-2.06 2.06-.94-2.06-.94-.94-2.06-.94 2.06-2.06.94zm-11 1L8.5 8.5l.94-2.06 2.06-.94-2.06-.94L8.5 2.5l-.94 2.06-2.06.94zm10 10l.94 2.06.94-2.06 2.06-.94-2.06-.94-.94-2.06-.94 2.06-2.06.94z\"/><path d=\"M17.41 7.96l-1.37-1.37c-.4-.4-.92-.59-1.43-.59-.52 0-1.04.2-1.43.59L10.3 9.45l-7.72 7.72c-.78.78-.78 2.05 0 2.83L4 21.41c.39.39.9.59 1.41.59.51 0 1.02-.2 1.41-.59l7.78-7.78 2.81-2.81c.8-.78.8-2.07 0-2.86zM5.41 20L4 18.59l7.72-7.72 1.47 1.35L5.41 20z\"/>\n",
              "  </svg>\n",
              "      </button>\n",
              "\n",
              "\n",
              "\n",
              "    <div id=\"df-0e5cf7db-4c8a-4a6f-85e3-0c35e813e07e\">\n",
              "      <button class=\"colab-df-quickchart\" onclick=\"quickchart('df-0e5cf7db-4c8a-4a6f-85e3-0c35e813e07e')\"\n",
              "              title=\"Suggest charts.\"\n",
              "              style=\"display:none;\">\n",
              "\n",
              "<svg xmlns=\"http://www.w3.org/2000/svg\" height=\"24px\"viewBox=\"0 0 24 24\"\n",
              "     width=\"24px\">\n",
              "    <g>\n",
              "        <path d=\"M19 3H5c-1.1 0-2 .9-2 2v14c0 1.1.9 2 2 2h14c1.1 0 2-.9 2-2V5c0-1.1-.9-2-2-2zM9 17H7v-7h2v7zm4 0h-2V7h2v10zm4 0h-2v-4h2v4z\"/>\n",
              "    </g>\n",
              "</svg>\n",
              "      </button>\n",
              "    </div>\n",
              "\n",
              "<style>\n",
              "  .colab-df-quickchart {\n",
              "    background-color: #E8F0FE;\n",
              "    border: none;\n",
              "    border-radius: 50%;\n",
              "    cursor: pointer;\n",
              "    display: none;\n",
              "    fill: #1967D2;\n",
              "    height: 32px;\n",
              "    padding: 0 0 0 0;\n",
              "    width: 32px;\n",
              "  }\n",
              "\n",
              "  .colab-df-quickchart:hover {\n",
              "    background-color: #E2EBFA;\n",
              "    box-shadow: 0px 1px 2px rgba(60, 64, 67, 0.3), 0px 1px 3px 1px rgba(60, 64, 67, 0.15);\n",
              "    fill: #174EA6;\n",
              "  }\n",
              "\n",
              "  [theme=dark] .colab-df-quickchart {\n",
              "    background-color: #3B4455;\n",
              "    fill: #D2E3FC;\n",
              "  }\n",
              "\n",
              "  [theme=dark] .colab-df-quickchart:hover {\n",
              "    background-color: #434B5C;\n",
              "    box-shadow: 0px 1px 3px 1px rgba(0, 0, 0, 0.15);\n",
              "    filter: drop-shadow(0px 1px 2px rgba(0, 0, 0, 0.3));\n",
              "    fill: #FFFFFF;\n",
              "  }\n",
              "</style>\n",
              "\n",
              "    <script>\n",
              "      async function quickchart(key) {\n",
              "        const containerElement = document.querySelector('#' + key);\n",
              "        const charts = await google.colab.kernel.invokeFunction(\n",
              "            'suggestCharts', [key], {});\n",
              "      }\n",
              "    </script>\n",
              "\n",
              "      <script>\n",
              "\n",
              "function displayQuickchartButton(domScope) {\n",
              "  let quickchartButtonEl =\n",
              "    domScope.querySelector('#df-0e5cf7db-4c8a-4a6f-85e3-0c35e813e07e button.colab-df-quickchart');\n",
              "  quickchartButtonEl.style.display =\n",
              "    google.colab.kernel.accessAllowed ? 'block' : 'none';\n",
              "}\n",
              "\n",
              "        displayQuickchartButton(document);\n",
              "      </script>\n",
              "      <style>\n",
              "    .colab-df-container {\n",
              "      display:flex;\n",
              "      flex-wrap:wrap;\n",
              "      gap: 12px;\n",
              "    }\n",
              "\n",
              "    .colab-df-convert {\n",
              "      background-color: #E8F0FE;\n",
              "      border: none;\n",
              "      border-radius: 50%;\n",
              "      cursor: pointer;\n",
              "      display: none;\n",
              "      fill: #1967D2;\n",
              "      height: 32px;\n",
              "      padding: 0 0 0 0;\n",
              "      width: 32px;\n",
              "    }\n",
              "\n",
              "    .colab-df-convert:hover {\n",
              "      background-color: #E2EBFA;\n",
              "      box-shadow: 0px 1px 2px rgba(60, 64, 67, 0.3), 0px 1px 3px 1px rgba(60, 64, 67, 0.15);\n",
              "      fill: #174EA6;\n",
              "    }\n",
              "\n",
              "    [theme=dark] .colab-df-convert {\n",
              "      background-color: #3B4455;\n",
              "      fill: #D2E3FC;\n",
              "    }\n",
              "\n",
              "    [theme=dark] .colab-df-convert:hover {\n",
              "      background-color: #434B5C;\n",
              "      box-shadow: 0px 1px 3px 1px rgba(0, 0, 0, 0.15);\n",
              "      filter: drop-shadow(0px 1px 2px rgba(0, 0, 0, 0.3));\n",
              "      fill: #FFFFFF;\n",
              "    }\n",
              "  </style>\n",
              "\n",
              "      <script>\n",
              "        const buttonEl =\n",
              "          document.querySelector('#df-b895846c-9928-412e-a98f-e13751057ef1 button.colab-df-convert');\n",
              "        buttonEl.style.display =\n",
              "          google.colab.kernel.accessAllowed ? 'block' : 'none';\n",
              "\n",
              "        async function convertToInteractive(key) {\n",
              "          const element = document.querySelector('#df-b895846c-9928-412e-a98f-e13751057ef1');\n",
              "          const dataTable =\n",
              "            await google.colab.kernel.invokeFunction('convertToInteractive',\n",
              "                                                     [key], {});\n",
              "          if (!dataTable) return;\n",
              "\n",
              "          const docLinkHtml = 'Like what you see? Visit the ' +\n",
              "            '<a target=\"_blank\" href=https://colab.research.google.com/notebooks/data_table.ipynb>data table notebook</a>'\n",
              "            + ' to learn more about interactive tables.';\n",
              "          element.innerHTML = '';\n",
              "          dataTable['output_type'] = 'display_data';\n",
              "          await google.colab.output.renderOutput(dataTable, element);\n",
              "          const docLink = document.createElement('div');\n",
              "          docLink.innerHTML = docLinkHtml;\n",
              "          element.appendChild(docLink);\n",
              "        }\n",
              "      </script>\n",
              "    </div>\n",
              "  </div>\n"
            ]
          },
          "metadata": {},
          "execution_count": 20
        }
      ]
    },
    {
      "cell_type": "code",
      "source": [
        "df.info()"
      ],
      "metadata": {
        "colab": {
          "base_uri": "https://localhost:8080/"
        },
        "id": "QAc6mgG1OmNk",
        "outputId": "dff7c806-e8f9-4b3c-cfd9-3890dfeceae8"
      },
      "execution_count": null,
      "outputs": [
        {
          "output_type": "stream",
          "name": "stdout",
          "text": [
            "<class 'pandas.core.frame.DataFrame'>\n",
            "RangeIndex: 3333 entries, 0 to 3332\n",
            "Data columns (total 20 columns):\n",
            " #   Column                               Non-Null Count  Dtype \n",
            "---  ------                               --------------  ----- \n",
            " 0   account length                       3333 non-null   int64 \n",
            " 1   location code                        3333 non-null   int64 \n",
            " 2   user id                              3333 non-null   int64 \n",
            " 3   credit card info save                3333 non-null   object\n",
            " 4   push status                          3333 non-null   object\n",
            " 5   add to wishlist                      3333 non-null   int64 \n",
            " 6   desktop sessions                     3333 non-null   int64 \n",
            " 7   app sessions                         3333 non-null   int64 \n",
            " 8   desktop transactions                 3333 non-null   int64 \n",
            " 9   total product detail views           3333 non-null   int64 \n",
            " 10  session duration                     3333 non-null   int64 \n",
            " 11  promotion clicks                     3333 non-null   int64 \n",
            " 12  avg order value                      3333 non-null   object\n",
            " 13  sale product views                   3333 non-null   int64 \n",
            " 14  discount rate per visited products   3333 non-null   object\n",
            " 15  product detail view per app session  3333 non-null   object\n",
            " 16  app transactions                     3333 non-null   int64 \n",
            " 17  add to cart per session              3333 non-null   object\n",
            " 18  customer service calls               3333 non-null   int64 \n",
            " 19  churn                                3333 non-null   int64 \n",
            "dtypes: int64(14), object(6)\n",
            "memory usage: 520.9+ KB\n"
          ]
        }
      ]
    },
    {
      "cell_type": "code",
      "source": [
        "#cambiamos location code a categorico\n",
        "df['location code'].unique()"
      ],
      "metadata": {
        "colab": {
          "base_uri": "https://localhost:8080/"
        },
        "id": "3j8EpDDGPAjc",
        "outputId": "fcf8bc88-f7c6-4215-a9be-4e2bd0730f08"
      },
      "execution_count": null,
      "outputs": [
        {
          "output_type": "execute_result",
          "data": {
            "text/plain": [
              "array([415, 408, 510])"
            ]
          },
          "metadata": {},
          "execution_count": 22
        }
      ]
    },
    {
      "cell_type": "code",
      "source": [
        "df['location code'] = df['location code'].astype(str)"
      ],
      "metadata": {
        "id": "p65r-HYxPexU"
      },
      "execution_count": null,
      "outputs": []
    },
    {
      "cell_type": "code",
      "source": [
        "#cambiamos el tipo de dato de  credit card info save y push status\n",
        "df['credit card info save'] = df['credit card info save'].replace({'yes': 1, 'no':0})\n",
        "df['push status'] = df['push status'].replace({'yes': 1, 'no':0})"
      ],
      "metadata": {
        "id": "LCxfNZVbU9MW"
      },
      "execution_count": null,
      "outputs": []
    },
    {
      "cell_type": "code",
      "source": [
        "#cambiamos coma por punto y tipo de dato\n",
        "df['avg order value'] = df['avg order value'].str.replace(',', '.').astype(float)\n",
        "df['discount rate per visited products'] = df['discount rate per visited products'].str.replace(',', '.').astype(float)\n",
        "df['product detail view per app session'] = df['product detail view per app session'].str.replace(',', '.').astype(float)\n",
        "df['add to cart per session'] = df['add to cart per session'].str.replace(',', '.').astype(float)"
      ],
      "metadata": {
        "id": "rYU4R_3HV9IP"
      },
      "execution_count": null,
      "outputs": []
    },
    {
      "cell_type": "code",
      "source": [
        "#codificacion de variable categorica\n",
        "df = pd.get_dummies(df, columns=['location code'])"
      ],
      "metadata": {
        "id": "OMXr9opGZArf"
      },
      "execution_count": null,
      "outputs": []
    },
    {
      "cell_type": "code",
      "source": [
        "#eliminamos user id\n",
        "df= df.drop('user id', axis= 1)"
      ],
      "metadata": {
        "id": "dz4VUBPBZkr5"
      },
      "execution_count": null,
      "outputs": []
    },
    {
      "cell_type": "code",
      "source": [
        "df.head()"
      ],
      "metadata": {
        "id": "Be1kdh7naCN3"
      },
      "execution_count": null,
      "outputs": []
    },
    {
      "cell_type": "code",
      "source": [
        "df.columns"
      ],
      "metadata": {
        "colab": {
          "base_uri": "https://localhost:8080/"
        },
        "id": "TyS46EsGbHUf",
        "outputId": "5213582a-8074-43f1-f064-ba71ca3e4ede"
      },
      "execution_count": null,
      "outputs": [
        {
          "output_type": "execute_result",
          "data": {
            "text/plain": [
              "Index(['account length', 'credit card info save', 'push status',\n",
              "       'add to wishlist', 'desktop sessions', 'app sessions',\n",
              "       'desktop transactions', 'total product detail views',\n",
              "       'session duration', 'promotion clicks', 'avg order value',\n",
              "       'sale product views', 'discount rate per visited products',\n",
              "       'product detail view per app session', 'app transactions',\n",
              "       'add to cart per session', 'customer service calls', 'churn',\n",
              "       'location code_408', 'location code_415', 'location code_510'],\n",
              "      dtype='object')"
            ]
          },
          "metadata": {},
          "execution_count": 30
        }
      ]
    },
    {
      "cell_type": "code",
      "source": [
        "#escalamos los datos\n",
        "cols_to_scale = ['account length',\n",
        "       'add to wishlist', 'desktop sessions', 'app sessions',\n",
        "       'desktop transactions', 'total product detail views',\n",
        "       'session duration', 'promotion clicks', 'avg order value',\n",
        "       'sale product views', 'discount rate per visited products',\n",
        "       'product detail view per app session', 'app transactions',\n",
        "       'add to cart per session', 'customer service calls']\n",
        "scaler = Normalizer()\n",
        "scaled_data =scaler.fit_transform(df[cols_to_scale])\n",
        "scaled_df= pd.DataFrame(scaled_data, index=df.index, columns= cols_to_scale)"
      ],
      "metadata": {
        "id": "otWWqH-3bOea"
      },
      "execution_count": null,
      "outputs": []
    },
    {
      "cell_type": "code",
      "source": [
        "scaled_df.head()"
      ],
      "metadata": {
        "colab": {
          "base_uri": "https://localhost:8080/",
          "height": 339
        },
        "id": "M59Qq04Cdj1s",
        "outputId": "2985ce2d-e48a-4f6b-9501-5201c8e7abec"
      },
      "execution_count": null,
      "outputs": [
        {
          "output_type": "execute_result",
          "data": {
            "text/plain": [
              "   account length  add to wishlist  desktop sessions  app sessions  \\\n",
              "0        0.275142         0.053739          0.569631      0.096730   \n",
              "1        0.252755         0.061417          0.382676      0.063779   \n",
              "2        0.345945         0.000000          0.613611      0.103531   \n",
              "3        0.208327         0.000000          0.741543      0.126484   \n",
              "4        0.205041         0.000000          0.456559      0.076549   \n",
              "\n",
              "   desktop transactions  total product detail views  session duration  \\\n",
              "0              0.036542                    0.236451          0.423461   \n",
              "1              0.040157                    0.290551          0.462991   \n",
              "2              0.025251                    0.287867          0.305543   \n",
              "3              0.012400                    0.176086          0.153765   \n",
              "4              0.035541                    0.308929          0.404615   \n",
              "\n",
              "   promotion clicks  avg order value  sale product views  \\\n",
              "0          0.187011         0.525995            0.195609   \n",
              "1          0.243307         0.600944            0.243307   \n",
              "2          0.277766         0.410589            0.262615   \n",
              "3          0.218247         0.488327            0.220727   \n",
              "4          0.333534         0.510963            0.330800   \n",
              "\n",
              "   discount rate per visited products  product detail view per app session  \\\n",
              "0                            0.023667                             0.021496   \n",
              "1                            0.027047                             0.032362   \n",
              "2                            0.018484                             0.030807   \n",
              "3                            0.021973                             0.016369   \n",
              "4                            0.022992                             0.027612   \n",
              "\n",
              "   app transactions  add to cart per session  customer service calls  \n",
              "0          0.006449                 0.005804                0.002150  \n",
              "1          0.007087                 0.008740                0.002362  \n",
              "2          0.012626                 0.008308                0.000000  \n",
              "3          0.017361                 0.004415                0.004960  \n",
              "4          0.008202                 0.007464                0.008202  "
            ],
            "text/html": [
              "\n",
              "\n",
              "  <div id=\"df-e832d47d-873b-4ea6-bf0d-bc3fd9b1f30b\">\n",
              "    <div class=\"colab-df-container\">\n",
              "      <div>\n",
              "<style scoped>\n",
              "    .dataframe tbody tr th:only-of-type {\n",
              "        vertical-align: middle;\n",
              "    }\n",
              "\n",
              "    .dataframe tbody tr th {\n",
              "        vertical-align: top;\n",
              "    }\n",
              "\n",
              "    .dataframe thead th {\n",
              "        text-align: right;\n",
              "    }\n",
              "</style>\n",
              "<table border=\"1\" class=\"dataframe\">\n",
              "  <thead>\n",
              "    <tr style=\"text-align: right;\">\n",
              "      <th></th>\n",
              "      <th>account length</th>\n",
              "      <th>add to wishlist</th>\n",
              "      <th>desktop sessions</th>\n",
              "      <th>app sessions</th>\n",
              "      <th>desktop transactions</th>\n",
              "      <th>total product detail views</th>\n",
              "      <th>session duration</th>\n",
              "      <th>promotion clicks</th>\n",
              "      <th>avg order value</th>\n",
              "      <th>sale product views</th>\n",
              "      <th>discount rate per visited products</th>\n",
              "      <th>product detail view per app session</th>\n",
              "      <th>app transactions</th>\n",
              "      <th>add to cart per session</th>\n",
              "      <th>customer service calls</th>\n",
              "    </tr>\n",
              "  </thead>\n",
              "  <tbody>\n",
              "    <tr>\n",
              "      <th>0</th>\n",
              "      <td>0.275142</td>\n",
              "      <td>0.053739</td>\n",
              "      <td>0.569631</td>\n",
              "      <td>0.096730</td>\n",
              "      <td>0.036542</td>\n",
              "      <td>0.236451</td>\n",
              "      <td>0.423461</td>\n",
              "      <td>0.187011</td>\n",
              "      <td>0.525995</td>\n",
              "      <td>0.195609</td>\n",
              "      <td>0.023667</td>\n",
              "      <td>0.021496</td>\n",
              "      <td>0.006449</td>\n",
              "      <td>0.005804</td>\n",
              "      <td>0.002150</td>\n",
              "    </tr>\n",
              "    <tr>\n",
              "      <th>1</th>\n",
              "      <td>0.252755</td>\n",
              "      <td>0.061417</td>\n",
              "      <td>0.382676</td>\n",
              "      <td>0.063779</td>\n",
              "      <td>0.040157</td>\n",
              "      <td>0.290551</td>\n",
              "      <td>0.462991</td>\n",
              "      <td>0.243307</td>\n",
              "      <td>0.600944</td>\n",
              "      <td>0.243307</td>\n",
              "      <td>0.027047</td>\n",
              "      <td>0.032362</td>\n",
              "      <td>0.007087</td>\n",
              "      <td>0.008740</td>\n",
              "      <td>0.002362</td>\n",
              "    </tr>\n",
              "    <tr>\n",
              "      <th>2</th>\n",
              "      <td>0.345945</td>\n",
              "      <td>0.000000</td>\n",
              "      <td>0.613611</td>\n",
              "      <td>0.103531</td>\n",
              "      <td>0.025251</td>\n",
              "      <td>0.287867</td>\n",
              "      <td>0.305543</td>\n",
              "      <td>0.277766</td>\n",
              "      <td>0.410589</td>\n",
              "      <td>0.262615</td>\n",
              "      <td>0.018484</td>\n",
              "      <td>0.030807</td>\n",
              "      <td>0.012626</td>\n",
              "      <td>0.008308</td>\n",
              "      <td>0.000000</td>\n",
              "    </tr>\n",
              "    <tr>\n",
              "      <th>3</th>\n",
              "      <td>0.208327</td>\n",
              "      <td>0.000000</td>\n",
              "      <td>0.741543</td>\n",
              "      <td>0.126484</td>\n",
              "      <td>0.012400</td>\n",
              "      <td>0.176086</td>\n",
              "      <td>0.153765</td>\n",
              "      <td>0.218247</td>\n",
              "      <td>0.488327</td>\n",
              "      <td>0.220727</td>\n",
              "      <td>0.021973</td>\n",
              "      <td>0.016369</td>\n",
              "      <td>0.017361</td>\n",
              "      <td>0.004415</td>\n",
              "      <td>0.004960</td>\n",
              "    </tr>\n",
              "    <tr>\n",
              "      <th>4</th>\n",
              "      <td>0.205041</td>\n",
              "      <td>0.000000</td>\n",
              "      <td>0.456559</td>\n",
              "      <td>0.076549</td>\n",
              "      <td>0.035541</td>\n",
              "      <td>0.308929</td>\n",
              "      <td>0.404615</td>\n",
              "      <td>0.333534</td>\n",
              "      <td>0.510963</td>\n",
              "      <td>0.330800</td>\n",
              "      <td>0.022992</td>\n",
              "      <td>0.027612</td>\n",
              "      <td>0.008202</td>\n",
              "      <td>0.007464</td>\n",
              "      <td>0.008202</td>\n",
              "    </tr>\n",
              "  </tbody>\n",
              "</table>\n",
              "</div>\n",
              "      <button class=\"colab-df-convert\" onclick=\"convertToInteractive('df-e832d47d-873b-4ea6-bf0d-bc3fd9b1f30b')\"\n",
              "              title=\"Convert this dataframe to an interactive table.\"\n",
              "              style=\"display:none;\">\n",
              "\n",
              "  <svg xmlns=\"http://www.w3.org/2000/svg\" height=\"24px\"viewBox=\"0 0 24 24\"\n",
              "       width=\"24px\">\n",
              "    <path d=\"M0 0h24v24H0V0z\" fill=\"none\"/>\n",
              "    <path d=\"M18.56 5.44l.94 2.06.94-2.06 2.06-.94-2.06-.94-.94-2.06-.94 2.06-2.06.94zm-11 1L8.5 8.5l.94-2.06 2.06-.94-2.06-.94L8.5 2.5l-.94 2.06-2.06.94zm10 10l.94 2.06.94-2.06 2.06-.94-2.06-.94-.94-2.06-.94 2.06-2.06.94z\"/><path d=\"M17.41 7.96l-1.37-1.37c-.4-.4-.92-.59-1.43-.59-.52 0-1.04.2-1.43.59L10.3 9.45l-7.72 7.72c-.78.78-.78 2.05 0 2.83L4 21.41c.39.39.9.59 1.41.59.51 0 1.02-.2 1.41-.59l7.78-7.78 2.81-2.81c.8-.78.8-2.07 0-2.86zM5.41 20L4 18.59l7.72-7.72 1.47 1.35L5.41 20z\"/>\n",
              "  </svg>\n",
              "      </button>\n",
              "\n",
              "\n",
              "\n",
              "    <div id=\"df-b444ad2a-15f9-43d6-90c5-b2ca99acce7c\">\n",
              "      <button class=\"colab-df-quickchart\" onclick=\"quickchart('df-b444ad2a-15f9-43d6-90c5-b2ca99acce7c')\"\n",
              "              title=\"Suggest charts.\"\n",
              "              style=\"display:none;\">\n",
              "\n",
              "<svg xmlns=\"http://www.w3.org/2000/svg\" height=\"24px\"viewBox=\"0 0 24 24\"\n",
              "     width=\"24px\">\n",
              "    <g>\n",
              "        <path d=\"M19 3H5c-1.1 0-2 .9-2 2v14c0 1.1.9 2 2 2h14c1.1 0 2-.9 2-2V5c0-1.1-.9-2-2-2zM9 17H7v-7h2v7zm4 0h-2V7h2v10zm4 0h-2v-4h2v4z\"/>\n",
              "    </g>\n",
              "</svg>\n",
              "      </button>\n",
              "    </div>\n",
              "\n",
              "<style>\n",
              "  .colab-df-quickchart {\n",
              "    background-color: #E8F0FE;\n",
              "    border: none;\n",
              "    border-radius: 50%;\n",
              "    cursor: pointer;\n",
              "    display: none;\n",
              "    fill: #1967D2;\n",
              "    height: 32px;\n",
              "    padding: 0 0 0 0;\n",
              "    width: 32px;\n",
              "  }\n",
              "\n",
              "  .colab-df-quickchart:hover {\n",
              "    background-color: #E2EBFA;\n",
              "    box-shadow: 0px 1px 2px rgba(60, 64, 67, 0.3), 0px 1px 3px 1px rgba(60, 64, 67, 0.15);\n",
              "    fill: #174EA6;\n",
              "  }\n",
              "\n",
              "  [theme=dark] .colab-df-quickchart {\n",
              "    background-color: #3B4455;\n",
              "    fill: #D2E3FC;\n",
              "  }\n",
              "\n",
              "  [theme=dark] .colab-df-quickchart:hover {\n",
              "    background-color: #434B5C;\n",
              "    box-shadow: 0px 1px 3px 1px rgba(0, 0, 0, 0.15);\n",
              "    filter: drop-shadow(0px 1px 2px rgba(0, 0, 0, 0.3));\n",
              "    fill: #FFFFFF;\n",
              "  }\n",
              "</style>\n",
              "\n",
              "    <script>\n",
              "      async function quickchart(key) {\n",
              "        const containerElement = document.querySelector('#' + key);\n",
              "        const charts = await google.colab.kernel.invokeFunction(\n",
              "            'suggestCharts', [key], {});\n",
              "      }\n",
              "    </script>\n",
              "\n",
              "      <script>\n",
              "\n",
              "function displayQuickchartButton(domScope) {\n",
              "  let quickchartButtonEl =\n",
              "    domScope.querySelector('#df-b444ad2a-15f9-43d6-90c5-b2ca99acce7c button.colab-df-quickchart');\n",
              "  quickchartButtonEl.style.display =\n",
              "    google.colab.kernel.accessAllowed ? 'block' : 'none';\n",
              "}\n",
              "\n",
              "        displayQuickchartButton(document);\n",
              "      </script>\n",
              "      <style>\n",
              "    .colab-df-container {\n",
              "      display:flex;\n",
              "      flex-wrap:wrap;\n",
              "      gap: 12px;\n",
              "    }\n",
              "\n",
              "    .colab-df-convert {\n",
              "      background-color: #E8F0FE;\n",
              "      border: none;\n",
              "      border-radius: 50%;\n",
              "      cursor: pointer;\n",
              "      display: none;\n",
              "      fill: #1967D2;\n",
              "      height: 32px;\n",
              "      padding: 0 0 0 0;\n",
              "      width: 32px;\n",
              "    }\n",
              "\n",
              "    .colab-df-convert:hover {\n",
              "      background-color: #E2EBFA;\n",
              "      box-shadow: 0px 1px 2px rgba(60, 64, 67, 0.3), 0px 1px 3px 1px rgba(60, 64, 67, 0.15);\n",
              "      fill: #174EA6;\n",
              "    }\n",
              "\n",
              "    [theme=dark] .colab-df-convert {\n",
              "      background-color: #3B4455;\n",
              "      fill: #D2E3FC;\n",
              "    }\n",
              "\n",
              "    [theme=dark] .colab-df-convert:hover {\n",
              "      background-color: #434B5C;\n",
              "      box-shadow: 0px 1px 3px 1px rgba(0, 0, 0, 0.15);\n",
              "      filter: drop-shadow(0px 1px 2px rgba(0, 0, 0, 0.3));\n",
              "      fill: #FFFFFF;\n",
              "    }\n",
              "  </style>\n",
              "\n",
              "      <script>\n",
              "        const buttonEl =\n",
              "          document.querySelector('#df-e832d47d-873b-4ea6-bf0d-bc3fd9b1f30b button.colab-df-convert');\n",
              "        buttonEl.style.display =\n",
              "          google.colab.kernel.accessAllowed ? 'block' : 'none';\n",
              "\n",
              "        async function convertToInteractive(key) {\n",
              "          const element = document.querySelector('#df-e832d47d-873b-4ea6-bf0d-bc3fd9b1f30b');\n",
              "          const dataTable =\n",
              "            await google.colab.kernel.invokeFunction('convertToInteractive',\n",
              "                                                     [key], {});\n",
              "          if (!dataTable) return;\n",
              "\n",
              "          const docLinkHtml = 'Like what you see? Visit the ' +\n",
              "            '<a target=\"_blank\" href=https://colab.research.google.com/notebooks/data_table.ipynb>data table notebook</a>'\n",
              "            + ' to learn more about interactive tables.';\n",
              "          element.innerHTML = '';\n",
              "          dataTable['output_type'] = 'display_data';\n",
              "          await google.colab.output.renderOutput(dataTable, element);\n",
              "          const docLink = document.createElement('div');\n",
              "          docLink.innerHTML = docLinkHtml;\n",
              "          element.appendChild(docLink);\n",
              "        }\n",
              "      </script>\n",
              "    </div>\n",
              "  </div>\n"
            ]
          },
          "metadata": {},
          "execution_count": 32
        }
      ]
    },
    {
      "cell_type": "code",
      "source": [
        "#eliminamos columnas para evitar duplicas\n",
        "df = df.drop(cols_to_scale, axis= 1)\n",
        "df = pd.merge(df, scaled_df, left_index= True, right_index= True)"
      ],
      "metadata": {
        "id": "7DF_i1uZeStb"
      },
      "execution_count": null,
      "outputs": []
    },
    {
      "cell_type": "code",
      "source": [
        "from numpy.random.mtrand import random\n",
        "#dividimos los datos de entrenamiento\n",
        "x= df.drop('churn', axis= 1)\n",
        "y= df['churn']\n",
        "x_train, x_test, y_train, y_test = train_test_split(x, y, test_size= 0.33, random_state= 42)"
      ],
      "metadata": {
        "id": "VdghRg8qfgT8"
      },
      "execution_count": null,
      "outputs": []
    },
    {
      "cell_type": "code",
      "source": [
        "print(x_train.shape, x_test.shape, y_train.shape, y_test.shape)"
      ],
      "metadata": {
        "id": "14L2LVJVihn6"
      },
      "execution_count": null,
      "outputs": []
    },
    {
      "cell_type": "code",
      "source": [
        "#construimos modelo\n",
        "xgb_cl = xgb.XGBClassifier()\n",
        "xgb_cl.fit(x_train, y_train)"
      ],
      "metadata": {
        "colab": {
          "base_uri": "https://localhost:8080/",
          "height": 52
        },
        "id": "B0b6kwW7jbU0",
        "outputId": "2c33b120-a337-439b-8903-de458634a2bd"
      },
      "execution_count": null,
      "outputs": [
        {
          "output_type": "execute_result",
          "data": {
            "text/plain": [
              "XGBClassifier(base_score=None, booster=None, callbacks=None,\n",
              "              colsample_bylevel=None, colsample_bynode=None,\n",
              "              colsample_bytree=None, early_stopping_rounds=None,\n",
              "              enable_categorical=False, eval_metric=None, feature_types=None,\n",
              "              gamma=None, gpu_id=None, grow_policy=None, importance_type=None,\n",
              "              interaction_constraints=None, learning_rate=None, max_bin=None,\n",
              "              max_cat_threshold=None, max_cat_to_onehot=None,\n",
              "              max_delta_step=None, max_depth=None, max_leaves=None,\n",
              "              min_child_weight=None, missing=nan, monotone_constraints=None,\n",
              "              n_estimators=100, n_jobs=None, num_parallel_tree=None,\n",
              "              predictor=None, random_state=None, ...)"
            ],
            "text/html": [
              "<style>#sk-container-id-1 {color: black;background-color: white;}#sk-container-id-1 pre{padding: 0;}#sk-container-id-1 div.sk-toggleable {background-color: white;}#sk-container-id-1 label.sk-toggleable__label {cursor: pointer;display: block;width: 100%;margin-bottom: 0;padding: 0.3em;box-sizing: border-box;text-align: center;}#sk-container-id-1 label.sk-toggleable__label-arrow:before {content: \"▸\";float: left;margin-right: 0.25em;color: #696969;}#sk-container-id-1 label.sk-toggleable__label-arrow:hover:before {color: black;}#sk-container-id-1 div.sk-estimator:hover label.sk-toggleable__label-arrow:before {color: black;}#sk-container-id-1 div.sk-toggleable__content {max-height: 0;max-width: 0;overflow: hidden;text-align: left;background-color: #f0f8ff;}#sk-container-id-1 div.sk-toggleable__content pre {margin: 0.2em;color: black;border-radius: 0.25em;background-color: #f0f8ff;}#sk-container-id-1 input.sk-toggleable__control:checked~div.sk-toggleable__content {max-height: 200px;max-width: 100%;overflow: auto;}#sk-container-id-1 input.sk-toggleable__control:checked~label.sk-toggleable__label-arrow:before {content: \"▾\";}#sk-container-id-1 div.sk-estimator input.sk-toggleable__control:checked~label.sk-toggleable__label {background-color: #d4ebff;}#sk-container-id-1 div.sk-label input.sk-toggleable__control:checked~label.sk-toggleable__label {background-color: #d4ebff;}#sk-container-id-1 input.sk-hidden--visually {border: 0;clip: rect(1px 1px 1px 1px);clip: rect(1px, 1px, 1px, 1px);height: 1px;margin: -1px;overflow: hidden;padding: 0;position: absolute;width: 1px;}#sk-container-id-1 div.sk-estimator {font-family: monospace;background-color: #f0f8ff;border: 1px dotted black;border-radius: 0.25em;box-sizing: border-box;margin-bottom: 0.5em;}#sk-container-id-1 div.sk-estimator:hover {background-color: #d4ebff;}#sk-container-id-1 div.sk-parallel-item::after {content: \"\";width: 100%;border-bottom: 1px solid gray;flex-grow: 1;}#sk-container-id-1 div.sk-label:hover label.sk-toggleable__label {background-color: #d4ebff;}#sk-container-id-1 div.sk-serial::before {content: \"\";position: absolute;border-left: 1px solid gray;box-sizing: border-box;top: 0;bottom: 0;left: 50%;z-index: 0;}#sk-container-id-1 div.sk-serial {display: flex;flex-direction: column;align-items: center;background-color: white;padding-right: 0.2em;padding-left: 0.2em;position: relative;}#sk-container-id-1 div.sk-item {position: relative;z-index: 1;}#sk-container-id-1 div.sk-parallel {display: flex;align-items: stretch;justify-content: center;background-color: white;position: relative;}#sk-container-id-1 div.sk-item::before, #sk-container-id-1 div.sk-parallel-item::before {content: \"\";position: absolute;border-left: 1px solid gray;box-sizing: border-box;top: 0;bottom: 0;left: 50%;z-index: -1;}#sk-container-id-1 div.sk-parallel-item {display: flex;flex-direction: column;z-index: 1;position: relative;background-color: white;}#sk-container-id-1 div.sk-parallel-item:first-child::after {align-self: flex-end;width: 50%;}#sk-container-id-1 div.sk-parallel-item:last-child::after {align-self: flex-start;width: 50%;}#sk-container-id-1 div.sk-parallel-item:only-child::after {width: 0;}#sk-container-id-1 div.sk-dashed-wrapped {border: 1px dashed gray;margin: 0 0.4em 0.5em 0.4em;box-sizing: border-box;padding-bottom: 0.4em;background-color: white;}#sk-container-id-1 div.sk-label label {font-family: monospace;font-weight: bold;display: inline-block;line-height: 1.2em;}#sk-container-id-1 div.sk-label-container {text-align: center;}#sk-container-id-1 div.sk-container {/* jupyter's `normalize.less` sets `[hidden] { display: none; }` but bootstrap.min.css set `[hidden] { display: none !important; }` so we also need the `!important` here to be able to override the default hidden behavior on the sphinx rendered scikit-learn.org. See: https://github.com/scikit-learn/scikit-learn/issues/21755 */display: inline-block !important;position: relative;}#sk-container-id-1 div.sk-text-repr-fallback {display: none;}</style><div id=\"sk-container-id-1\" class=\"sk-top-container\"><div class=\"sk-text-repr-fallback\"><pre>XGBClassifier(base_score=None, booster=None, callbacks=None,\n",
              "              colsample_bylevel=None, colsample_bynode=None,\n",
              "              colsample_bytree=None, early_stopping_rounds=None,\n",
              "              enable_categorical=False, eval_metric=None, feature_types=None,\n",
              "              gamma=None, gpu_id=None, grow_policy=None, importance_type=None,\n",
              "              interaction_constraints=None, learning_rate=None, max_bin=None,\n",
              "              max_cat_threshold=None, max_cat_to_onehot=None,\n",
              "              max_delta_step=None, max_depth=None, max_leaves=None,\n",
              "              min_child_weight=None, missing=nan, monotone_constraints=None,\n",
              "              n_estimators=100, n_jobs=None, num_parallel_tree=None,\n",
              "              predictor=None, random_state=None, ...)</pre><b>In a Jupyter environment, please rerun this cell to show the HTML representation or trust the notebook. <br />On GitHub, the HTML representation is unable to render, please try loading this page with nbviewer.org.</b></div><div class=\"sk-container\" hidden><div class=\"sk-item\"><div class=\"sk-estimator sk-toggleable\"><input class=\"sk-toggleable__control sk-hidden--visually\" id=\"sk-estimator-id-1\" type=\"checkbox\" checked><label for=\"sk-estimator-id-1\" class=\"sk-toggleable__label sk-toggleable__label-arrow\">XGBClassifier</label><div class=\"sk-toggleable__content\"><pre>XGBClassifier(base_score=None, booster=None, callbacks=None,\n",
              "              colsample_bylevel=None, colsample_bynode=None,\n",
              "              colsample_bytree=None, early_stopping_rounds=None,\n",
              "              enable_categorical=False, eval_metric=None, feature_types=None,\n",
              "              gamma=None, gpu_id=None, grow_policy=None, importance_type=None,\n",
              "              interaction_constraints=None, learning_rate=None, max_bin=None,\n",
              "              max_cat_threshold=None, max_cat_to_onehot=None,\n",
              "              max_delta_step=None, max_depth=None, max_leaves=None,\n",
              "              min_child_weight=None, missing=nan, monotone_constraints=None,\n",
              "              n_estimators=100, n_jobs=None, num_parallel_tree=None,\n",
              "              predictor=None, random_state=None, ...)</pre></div></div></div></div></div>"
            ]
          },
          "metadata": {},
          "execution_count": 36
        }
      ]
    },
    {
      "cell_type": "code",
      "source": [
        "preds= xgb_cl.predict(x_test)"
      ],
      "metadata": {
        "id": "CZinZS6Ckr-2"
      },
      "execution_count": null,
      "outputs": []
    },
    {
      "cell_type": "code",
      "source": [
        "#medimos la precision\n",
        "acc = accuracy_score(y_test, preds)\n",
        "print('Precision del modelo de:', acc)"
      ],
      "metadata": {
        "colab": {
          "base_uri": "https://localhost:8080/"
        },
        "id": "yI0L-dRblRHz",
        "outputId": "9634b7e6-d0ca-45c2-d385-95fe86ee2ba5"
      },
      "execution_count": null,
      "outputs": [
        {
          "output_type": "stream",
          "name": "stdout",
          "text": [
            "Precision del modelo de: 0.9209090909090909\n"
          ]
        }
      ]
    },
    {
      "cell_type": "code",
      "source": [
        "#mejoramiento de los hiperparametros\n",
        "param_grid = {\n",
        "    'max_depth':[5],\n",
        "    'learning_rate':[0, 0.01, 0.05, 0.1],\n",
        "    'gamma':[1, 5, 10],\n",
        "    'scale_pos_weight': [2, 5, 10, 20],\n",
        "    'subsample': [1],\n",
        "    'colsample_bytree': [1]\n",
        "}\n",
        "xgb_c12= xgb.XGBClassifier(objective= 'binary:logistic')\n",
        "grid_cv= GridSearchCV(xgb_c12, param_grid, n_jobs=-1, cv=3, scoring= 'roc_auc')\n",
        "_ = grid_cv.fit(x_train, y_train)\n",
        "print('El mejor puntaje:', grid_cv.best_score_)\n",
        "print('El mejor parametro:', grid_cv.best_params_)\n"
      ],
      "metadata": {
        "colab": {
          "base_uri": "https://localhost:8080/"
        },
        "id": "gqFMn3vWnR8l",
        "outputId": "0206d709-1166-4907-fa40-6f27986a9d6f"
      },
      "execution_count": null,
      "outputs": [
        {
          "output_type": "stream",
          "name": "stdout",
          "text": [
            "El mejor puntaje: 0.8772165429327808\n",
            "El mejor parametro: {'colsample_bytree': 1, 'gamma': 1, 'learning_rate': 0.1, 'max_depth': 5, 'scale_pos_weight': 2, 'subsample': 1}\n"
          ]
        }
      ]
    },
    {
      "cell_type": "code",
      "source": [
        "from xgboost.core import Objective\n",
        "final_cl= xgb.XGBClassifier(\n",
        "    **grid_cv.best_params_, Objective='binary:logistic'\n",
        ")\n",
        "grid_final= final_cl.fit(x_train, y_train)\n",
        "preds= grid_final.predict(x_test)\n",
        "acc= accuracy_score(y_test, preds)\n",
        "print('El puntaje del modelo es:', acc)"
      ],
      "metadata": {
        "colab": {
          "base_uri": "https://localhost:8080/"
        },
        "id": "pjSK3LOezsxz",
        "outputId": "9d844f9b-386d-45c2-e13e-2b9198c0a90d"
      },
      "execution_count": null,
      "outputs": [
        {
          "output_type": "stream",
          "name": "stdout",
          "text": [
            "[19:03:22] WARNING: ../src/learner.cc:767: \n",
            "Parameters: { \"Objective\" } are not used.\n",
            "\n",
            "El puntaje del modelo es: 0.9272727272727272\n"
          ]
        }
      ]
    }
  ]
}